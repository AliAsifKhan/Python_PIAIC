{
 "cells": [
  {
   "cell_type": "markdown",
   "metadata": {},
   "source": [
    "# M Ali Asif Khan Roll#57947 "
   ]
  },
  {
   "cell_type": "markdown",
   "metadata": {},
   "source": [
    "### Assignment#3"
   ]
  },
  {
   "cell_type": "markdown",
   "metadata": {},
   "source": [
    "#### Task 1"
   ]
  },
  {
   "cell_type": "code",
   "execution_count": 3,
   "metadata": {},
   "outputs": [
    {
     "name": "stdout",
     "output_type": "stream",
     "text": [
      "Key23\n",
      "Valueali\n",
      "{23: 'ali'}\n"
     ]
    }
   ],
   "source": [
    "key1 = int(input('Key'))\n",
    "value1 = input('Value')\n",
    "newDict1 = {}\n",
    "newDict1.update({(key1,value1)})\n",
    "print(newDict1)"
   ]
  },
  {
   "cell_type": "markdown",
   "metadata": {},
   "source": [
    "#### Task 2"
   ]
  },
  {
   "cell_type": "code",
   "execution_count": 6,
   "metadata": {},
   "outputs": [
    {
     "name": "stdout",
     "output_type": "stream",
     "text": [
      "{1: 'a', 2: 'b'}\n"
     ]
    }
   ],
   "source": [
    "dict1 = {1:'a'}\n",
    "dict2 = {2:'b'}\n",
    "dict1.update(dict2)\n",
    "print(dict1)"
   ]
  },
  {
   "cell_type": "markdown",
   "metadata": {},
   "source": [
    "#### Task 3"
   ]
  },
  {
   "cell_type": "code",
   "execution_count": 7,
   "metadata": {},
   "outputs": [
    {
     "name": "stdout",
     "output_type": "stream",
     "text": [
      "key: 3\n",
      "Yes, Key 3 is present.\n"
     ]
    }
   ],
   "source": [
    "dict3 = {1:'a',2:'b',3:'c',4:'d'}\n",
    "key3 = int(input('key: '))\n",
    "list3 = dict3.keys()\n",
    "if key3 in list3:\n",
    "    print('Yes, Key', key3, 'is present.')\n",
    "else:\n",
    "    print('No, Key', key3, 'is not present.')"
   ]
  },
  {
   "cell_type": "markdown",
   "metadata": {},
   "source": [
    "#### Task 4"
   ]
  },
  {
   "cell_type": "code",
   "execution_count": 8,
   "metadata": {},
   "outputs": [
    {
     "name": "stdout",
     "output_type": "stream",
     "text": [
      "13\n",
      "{1: 1, 2: 4, 3: 9, 4: 16, 5: 25, 6: 36, 7: 49, 8: 64, 9: 81, 10: 100, 11: 121, 12: 144, 13: 169}\n"
     ]
    }
   ],
   "source": [
    "valueN = int(input())\n",
    "valueN += 1\n",
    "dictN = {}\n",
    "for i in range(1,valueN):\n",
    "    value = i * i\n",
    "    dictN.update({(i,value)})\n",
    "print(dictN)"
   ]
  },
  {
   "cell_type": "markdown",
   "metadata": {},
   "source": [
    "#### Task 5"
   ]
  },
  {
   "cell_type": "code",
   "execution_count": 14,
   "metadata": {},
   "outputs": [
    {
     "name": "stdout",
     "output_type": "stream",
     "text": [
      "Sum of all Values: 91\n"
     ]
    }
   ],
   "source": [
    "dict5 = {1: 1, 2: 4, 3: 9, 4: 16, 5: 25, 6: 36}\n",
    "sumVal = 0\n",
    "for x in dict5:\n",
    "    sumVal = sumVal + dict5[x]\n",
    "print ('Sum of all Values:',sumVal)"
   ]
  },
  {
   "cell_type": "markdown",
   "metadata": {},
   "source": [
    "#### Task 6"
   ]
  },
  {
   "cell_type": "code",
   "execution_count": 15,
   "metadata": {},
   "outputs": [
    {
     "name": "stdout",
     "output_type": "stream",
     "text": [
      "Sum of all Values: 518400\n"
     ]
    }
   ],
   "source": [
    "dict6 = {1: 1, 2: 4, 3: 9, 4: 16, 5: 25, 6: 36}\n",
    "prod = 1\n",
    "for x in dict6:\n",
    "    prod = prod * dict6[x]\n",
    "print ('Sum of all Values:',prod)"
   ]
  },
  {
   "cell_type": "markdown",
   "metadata": {},
   "source": [
    "#### Task 7"
   ]
  },
  {
   "cell_type": "code",
   "execution_count": 11,
   "metadata": {},
   "outputs": [
    {
     "name": "stdout",
     "output_type": "stream",
     "text": [
      "7\n",
      "dict_keys([1, 2, 3, 4, 5, 6])\n",
      "Key 7 is not present.\n"
     ]
    }
   ],
   "source": [
    "dict7 = {1: 1, 2: 4, 3: 9, 4: 16, 5: 25, 6: 36}\n",
    "key7 = int(input())\n",
    "list7 = dict7.keys()\n",
    "print(list7)\n",
    "if key7 in list7:\n",
    "    dict7.pop(key7)\n",
    "else:\n",
    "    print('Key', key7, 'is not present.')"
   ]
  },
  {
   "cell_type": "markdown",
   "metadata": {},
   "source": [
    "#### Task 8"
   ]
  },
  {
   "cell_type": "code",
   "execution_count": 4,
   "metadata": {},
   "outputs": [
    {
     "name": "stdout",
     "output_type": "stream",
     "text": [
      "2\n",
      "Enter KEY element: 1\n",
      "Enter KEY element: 2\n",
      "Enter VALUE element: 1\n",
      "Enter VALUE element: 2\n",
      "{1: 1, 2: 2}\n"
     ]
    }
   ],
   "source": [
    "keys = []\n",
    "values = []\n",
    "\n",
    "dictSize = int(input())\n",
    "dictSize += 1\n",
    "\n",
    "for x in range (1,dictSize):\n",
    "    k = int(input('Enter KEY element: '))\n",
    "    keys.append(k)\n",
    "    \n",
    "for x in range (1,dictSize):    \n",
    "    v = int(input('Enter VALUE element: '))\n",
    "    values.append(v)\n",
    "    \n",
    "#print('listA: ',keys)\n",
    "#print('listB: ',values)\n",
    "\n",
    "dict8 = dict(zip(keys,values))\n",
    "print(dict8)"
   ]
  },
  {
   "cell_type": "markdown",
   "metadata": {},
   "source": [
    "#### Task 9"
   ]
  },
  {
   "cell_type": "code",
   "execution_count": 3,
   "metadata": {
    "scrolled": true
   },
   "outputs": [
    {
     "name": "stdout",
     "output_type": "stream",
     "text": [
      "hello world pakistan is the is hello and world world pak hello\n",
      "{'hello': 3, 'world': 3, 'pakistan': 1, 'is': 2, 'the': 1, 'and': 1, 'pak': 1}\n"
     ]
    }
   ],
   "source": [
    "userString = input()\n",
    "userList = []\n",
    "list2 = []\n",
    "userList = userString.split()\n",
    "\n",
    "for x in userList:\n",
    "    a = userList.count(x)\n",
    "    list2.append(a)\n",
    "\n",
    "dict9 = dict(zip(userList,list2))\n",
    "\n",
    "print(dict9)"
   ]
  },
  {
   "cell_type": "markdown",
   "metadata": {},
   "source": [
    "#### Task 10"
   ]
  },
  {
   "cell_type": "code",
   "execution_count": 9,
   "metadata": {
    "scrolled": true
   },
   "outputs": [
    {
     "name": "stdout",
     "output_type": "stream",
     "text": [
      "Enter string: hello world pakistan is the is hello and world world pak hello in\n",
      "( h : ['hello', 'hello', 'hello'] )\n",
      "( w : ['world', 'world', 'world'] )\n",
      "( p : ['pakistan', 'pak'] )\n",
      "( i : ['is', 'is', 'in'] )\n",
      "( t : ['the'] )\n",
      "( a : ['and'] )\n"
     ]
    }
   ],
   "source": [
    "string10 = input('Enter string: ')\n",
    "dict10 = dict()\n",
    "list10 = []\n",
    "list10 = string10.split()\n",
    "\n",
    "for x in list10:\n",
    "    if x[0] in dict10:\n",
    "        dict10[x[0]].append(x)\n",
    "    else:\n",
    "        dict10[x[0]] = [x]  \n",
    "        \n",
    "for y in dict10:\n",
    "    print('(',y,':',dict10[y],')')"
   ]
  }
 ],
 "metadata": {
  "kernelspec": {
   "display_name": "Python 3",
   "language": "python",
   "name": "python3"
  },
  "language_info": {
   "codemirror_mode": {
    "name": "ipython",
    "version": 3
   },
   "file_extension": ".py",
   "mimetype": "text/x-python",
   "name": "python",
   "nbconvert_exporter": "python",
   "pygments_lexer": "ipython3",
   "version": "3.7.0"
  }
 },
 "nbformat": 4,
 "nbformat_minor": 2
}
