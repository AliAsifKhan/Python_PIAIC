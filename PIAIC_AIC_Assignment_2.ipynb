{
 "cells": [
  {
   "cell_type": "markdown",
   "metadata": {},
   "source": [
    "# M Ali Asif Khan Roll#57947"
   ]
  },
  {
   "cell_type": "markdown",
   "metadata": {},
   "source": [
    "### Assignment#2"
   ]
  },
  {
   "cell_type": "markdown",
   "metadata": {},
   "source": [
    "#### Task 1"
   ]
  },
  {
   "cell_type": "code",
   "execution_count": 1,
   "metadata": {},
   "outputs": [
    {
     "name": "stdout",
     "output_type": "stream",
     "text": [
      "-12\n",
      "-ve\n"
     ]
    }
   ],
   "source": [
    "a = input()\n",
    "b = int(a)\n",
    "if b >= 0:\n",
    "    print('+ve')\n",
    "else:\n",
    "    print('-ve')\n",
    "exit()"
   ]
  },
  {
   "cell_type": "markdown",
   "metadata": {},
   "source": [
    "#### Task 2"
   ]
  },
  {
   "cell_type": "code",
   "execution_count": 1,
   "metadata": {},
   "outputs": [
    {
     "name": "stdout",
     "output_type": "stream",
     "text": [
      "21\n",
      "34\n",
      "78\n",
      "90\n",
      "98\n",
      "D\n"
     ]
    }
   ],
   "source": [
    "sub1 = int(input())\n",
    "sub2 = int(input())\n",
    "sub3 = int(input())\n",
    "sub4 = int(input())\n",
    "sub5 = int(input())\n",
    "\n",
    "s = sub1 + sub2 + sub3 + sub4 + sub5\n",
    "avg = s / 5\n",
    "\n",
    "if avg >= 90:\n",
    "    print('A')\n",
    "elif 90 > avg > 80:\n",
    "    print('B')\n",
    "elif 80 > avg > 70:\n",
    "    print('C')\n",
    "elif 70 > avg > 60:\n",
    "    print('D')\n",
    "elif 60 > avg > 50:\n",
    "    print('E')\n",
    "else:\n",
    "    print('F')"
   ]
  },
  {
   "cell_type": "markdown",
   "metadata": {},
   "source": [
    "#### Task 3"
   ]
  },
  {
   "cell_type": "code",
   "execution_count": 5,
   "metadata": {},
   "outputs": [
    {
     "name": "stdout",
     "output_type": "stream",
     "text": [
      "12\n",
      "3\n",
      "1st #  12  2nd #  3  Quotient  4.0  Modulus  0\n"
     ]
    }
   ],
   "source": [
    "num1 = int(input())\n",
    "num2 = int(input())\n",
    "qt = num1/num2\n",
    "md = num1%num2\n",
    "print('1st # ', num1, ' 2nd # ', num2, ' Quotient ', qt, ' Modulus ', md)"
   ]
  },
  {
   "cell_type": "markdown",
   "metadata": {},
   "source": [
    "#### Task 4"
   ]
  },
  {
   "cell_type": "code",
   "execution_count": 4,
   "metadata": {},
   "outputs": [
    {
     "name": "stdout",
     "output_type": "stream",
     "text": [
      "1\n",
      "5\n",
      "7\n",
      "11\n",
      "13\n",
      "17\n",
      "19\n",
      "23\n",
      "25\n",
      "29\n",
      "31\n",
      "35\n",
      "37\n",
      "41\n",
      "43\n",
      "47\n",
      "49\n"
     ]
    }
   ],
   "source": [
    "for x in range(1,51):\n",
    "    if x%2 != 0 and x%3 != 0:\n",
    "        print(x)"
   ]
  },
  {
   "cell_type": "markdown",
   "metadata": {},
   "source": [
    "#### Task 5"
   ]
  },
  {
   "cell_type": "code",
   "execution_count": 6,
   "metadata": {},
   "outputs": [
    {
     "name": "stdout",
     "output_type": "stream",
     "text": [
      "23\n",
      "12\n",
      "1:  23  2:  12\n",
      "1:  12  2:  23\n"
     ]
    }
   ],
   "source": [
    "n1 = int(input())\n",
    "n2 = int(input())\n",
    "print('1: ', n1, ' 2: ', n2)\n",
    "n1 = n1+n2\n",
    "n2 = n1-n2\n",
    "n1 = -(n2-n1)\n",
    "print('1: ', n1, ' 2: ', n2)"
   ]
  },
  {
   "cell_type": "markdown",
   "metadata": {},
   "source": [
    "#### Task 6"
   ]
  },
  {
   "cell_type": "code",
   "execution_count": 19,
   "metadata": {},
   "outputs": [
    {
     "name": "stdout",
     "output_type": "stream",
     "text": [
      "2\n",
      "3\n",
      "4\n",
      "2.9047375096555625\n"
     ]
    }
   ],
   "source": [
    "import math\n",
    "s1 = int(input())\n",
    "s2 = int(input())\n",
    "s3 = int(input())\n",
    "s = (s1+s2+s3)/2\n",
    "area = math.sqrt(s*(s-s1)*(s-s2)*(s-s3))\n",
    "print(area)"
   ]
  },
  {
   "cell_type": "markdown",
   "metadata": {},
   "source": [
    "#### Task 7"
   ]
  },
  {
   "cell_type": "code",
   "execution_count": 7,
   "metadata": {},
   "outputs": [
    {
     "name": "stdout",
     "output_type": "stream",
     "text": [
      "1\n",
      "6\n",
      "4\n",
      "2\n",
      "8\n",
      "0\n",
      "3\n",
      "6\n",
      "8\n",
      "9\n",
      "Largest odd #  9\n",
      "Largest even #  8\n"
     ]
    }
   ],
   "source": [
    "list1 = []\n",
    "odd = []\n",
    "even = []\n",
    "\n",
    "for x in range(0,10):\n",
    "    list1.append(int(input()))\n",
    "    x +=1\n",
    "    \n",
    "for y in list1:\n",
    "    if y%2 == 0:\n",
    "        even.append(y)\n",
    "    else:\n",
    "        odd.append(y)\n",
    "        \n",
    "odd.sort()\n",
    "even.sort()\n",
    "\n",
    "print('Largest odd # ',odd[-1])\n",
    "print('Largest even # ',even[-1])"
   ]
  },
  {
   "cell_type": "markdown",
   "metadata": {},
   "source": [
    "#### Task 8"
   ]
  },
  {
   "cell_type": "code",
   "execution_count": 8,
   "metadata": {},
   "outputs": [
    {
     "name": "stdout",
     "output_type": "stream",
     "text": [
      "1\n",
      "6\n",
      "2\n",
      "5\n",
      "Second largest #  5\n"
     ]
    }
   ],
   "source": [
    "list3 = []\n",
    "for x in range(1,5):\n",
    "    list3.append(int(input()))\n",
    "    x +=1\n",
    "list3.sort()\n",
    "print('Second largest # ',list3[-2])"
   ]
  },
  {
   "cell_type": "markdown",
   "metadata": {},
   "source": [
    "#### Task 9"
   ]
  },
  {
   "cell_type": "code",
   "execution_count": 4,
   "metadata": {},
   "outputs": [
    {
     "name": "stdout",
     "output_type": "stream",
     "text": [
      "List 1: 1\n",
      "List 1: 3\n",
      "List 1: 5\n",
      "List 1: 7\n",
      "List 2: 9\n",
      "List 2: 2\n",
      "List 2: 4\n",
      "List 2: 6\n",
      "[1, 3, 5, 7, 9, 2, 4, 6]\n"
     ]
    }
   ],
   "source": [
    "list4 = []\n",
    "list5 = []\n",
    "for x in range(1,5):\n",
    "    list4.append(int(input('List 1: ')))\n",
    "    x +=1\n",
    "for y in range(1,5):\n",
    "    list5.append(int(input('List 2: ')))\n",
    "    x +=1\n",
    "list6 = list4 + list5\n",
    "print(list6)"
   ]
  },
  {
   "cell_type": "code",
   "execution_count": null,
   "metadata": {},
   "outputs": [],
   "source": []
  }
 ],
 "metadata": {
  "kernelspec": {
   "display_name": "Python 3",
   "language": "python",
   "name": "python3"
  },
  "language_info": {
   "codemirror_mode": {
    "name": "ipython",
    "version": 3
   },
   "file_extension": ".py",
   "mimetype": "text/x-python",
   "name": "python",
   "nbconvert_exporter": "python",
   "pygments_lexer": "ipython3",
   "version": "3.7.0"
  }
 },
 "nbformat": 4,
 "nbformat_minor": 2
}
